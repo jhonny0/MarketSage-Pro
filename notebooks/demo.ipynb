# MarketSage-Pro Demo
Quick exploration of signal generation.from market_sage_pro.signals.generator import generate_signal, SignalConfig
sig = generate_signal(
    ensemble_up_prob=0.75,
    ensemble_down_prob=0.25,
    predicted_move_pct=0.3,
    rsi=50,
    price_vs_ema21=1,
    ivr=0.2,
    prob_big_move=0.7,
    cfg=SignalConfig(kelly_fraction_cap=0.5),
)
sig# MarketSage-Pro Demo
Quick exploration of signal generation.